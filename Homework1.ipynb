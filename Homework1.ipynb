{
 "cells": [
  {
   "cell_type": "markdown",
   "metadata": {},
   "source": [
    "# Packages"
   ]
  },
  {
   "cell_type": "code",
   "execution_count": 1,
   "metadata": {},
   "outputs": [],
   "source": [
    "import math\n",
    "import time\n",
    "import numpy as np\n",
    "from scipy import stats\n",
    "from tabulate import tabulate"
   ]
  },
  {
   "cell_type": "markdown",
   "metadata": {},
   "source": [
    "# Question 0"
   ]
  },
  {
   "cell_type": "raw",
   "metadata": {},
   "source": [
    "This is _question 0_ for [problem set 1](https://jbhender.github.io/Stats507/F21/ps1.html) of [Stats 507](https://jbhender.github.io/Stats507/F21/).\n",
    "> Question 0 is about Markdown.\n",
    "\n",
    "The next question is about the **Fibonnacci sequence**, $F_n=F_{n−2}+F_{n−1}$. In part **a** we will define a Python function ```fib_rec()```.\n",
    "\n",
    "Below is a …\n",
    "### Level 3 Header\n",
    "Next, we can make a bulleted list:\n",
    "* Item 1\n",
    "  * detail 1\n",
    "  * detail 2\n",
    "* Item 2\n",
    "\n",
    "Finally, we can make an enumerated list:\n",
    "\n",
    "1.  Item 1 \n",
    "1.  Item 2 \n",
    "1.  Item 3 \n",
    "\n"
   ]
  },
  {
   "cell_type": "markdown",
   "metadata": {},
   "source": [
    "This is _question 0_ for [problem set 1](https://jbhender.github.io/Stats507/F21/ps1.html) of [Stats 507](https://jbhender.github.io/Stats507/F21/).\n",
    "> Question 0 is about Markdown.\n",
    "\n",
    "The next question is about the **Fibonnacci sequence**, $F_n=F_{n−2}+F_{n−1}$. In part **a** we will define a Python function ```fib_rec()```.\n",
    "\n",
    "Below is a …\n",
    "### Level 3 Header\n",
    "Next, we can make a bulleted list:\n",
    "* Item 1\n",
    "  * detail 1\n",
    "  * detail 2\n",
    "* Item 2\n",
    "\n",
    "Finally, we can make an enumerated list:\n",
    "\n",
    "1.  Item 1 \n",
    "1.  Item 2 \n",
    "1.  Item 3 \n"
   ]
  },
  {
   "cell_type": "markdown",
   "metadata": {},
   "source": [
    "# Question 1"
   ]
  },
  {
   "cell_type": "code",
   "execution_count": 2,
   "metadata": {},
   "outputs": [
    {
     "data": {
      "text/plain": [
       "89"
      ]
     },
     "execution_count": 2,
     "metadata": {},
     "output_type": "execute_result"
    }
   ],
   "source": [
    "#part a\n",
    "def fib_rec(n, a=0, b=1):\n",
    "    \"\"\"\n",
    "    Returns the value of Fn in the Fibonnaci sequence.\n",
    "\n",
    "    Parameters\n",
    "    ----------\n",
    "    n: a nonnegative integer\n",
    "    a: F0 in the Fibonnaci sequence\n",
    "    b: F1 in the Fibonnaci sequence\n",
    "     Returns\n",
    "     -------\n",
    "     Fn: the nth item in the sequence\n",
    "\n",
    "    \"\"\"\n",
    "    if n == 0:\n",
    "        return a\n",
    "    elif n == 1:\n",
    "        return b\n",
    "    return fib_rec(n-1)+fib_rec(n-2)\n",
    "\n",
    "fib_rec(11)"
   ]
  },
  {
   "cell_type": "code",
   "execution_count": 3,
   "metadata": {},
   "outputs": [
    {
     "data": {
      "text/plain": [
       "89"
      ]
     },
     "execution_count": 3,
     "metadata": {},
     "output_type": "execute_result"
    }
   ],
   "source": [
    "#part b\n",
    "def fib_for(n, a=0, b=1):\n",
    "    \"\"\"\n",
    "    Returns the value of Fn in the Fibonnaci sequence using a for loop.\n",
    "\n",
    "    Parameters\n",
    "    ----------\n",
    "    n: a nonnegative integer\n",
    "    \n",
    "     Returns\n",
    "     -------\n",
    "     Fn: the nth item in the sequence\n",
    "\n",
    "    \"\"\"\n",
    "    if n==0:\n",
    "        return 0\n",
    "    fa = 0\n",
    "    Fn = 1\n",
    "    for i in range(n-1):\n",
    "        temp = Fn\n",
    "        Fn = fa + Fn\n",
    "        fa = temp\n",
    "    return Fn\n",
    "\n",
    "fib_for(11)"
   ]
  },
  {
   "cell_type": "code",
   "execution_count": 4,
   "metadata": {},
   "outputs": [
    {
     "data": {
      "text/plain": [
       "89"
      ]
     },
     "execution_count": 4,
     "metadata": {},
     "output_type": "execute_result"
    }
   ],
   "source": [
    "#part c\n",
    "def fib_whl(n):\n",
    "    \"\"\"\n",
    "    Returns the value of Fn in the Fibonnaci sequence using a while loop.\n",
    "\n",
    "    Parameters\n",
    "    ----------\n",
    "    n: a nonnegative integer\n",
    "    \n",
    "     Returns\n",
    "     -------\n",
    "     Fn: the nth item in the sequence\n",
    "\n",
    "    \"\"\"\n",
    "    if n==0:\n",
    "        return 0\n",
    "    fa = 0\n",
    "    Fn = 1\n",
    "    count = 1\n",
    "    while count < n:\n",
    "        temp = Fn\n",
    "        Fn = fa + Fn\n",
    "        fa = temp\n",
    "        count += 1\n",
    "    return Fn\n",
    "\n",
    "fib_whl(11)"
   ]
  },
  {
   "cell_type": "code",
   "execution_count": 5,
   "metadata": {},
   "outputs": [
    {
     "data": {
      "text/plain": [
       "89"
      ]
     },
     "execution_count": 5,
     "metadata": {},
     "output_type": "execute_result"
    }
   ],
   "source": [
    "#part d\n",
    "def fib_rnd(n):\n",
    "    \"\"\"\n",
    "    Returns the value of Fn in the Fibonnaci sequence using the \n",
    "    rounding method.\n",
    "\n",
    "    Parameters\n",
    "    ----------\n",
    "    n: a nonnegative integer\n",
    "    \n",
    "     Returns\n",
    "     -------\n",
    "     Fn: the nth item in the sequence\n",
    "\n",
    "    \"\"\"\n",
    "    fi = (1+math.sqrt(5))/2\n",
    "    Fn = round(fi**n/math.sqrt(5))\n",
    "    return Fn\n",
    "    \n",
    "fib_rnd(11)"
   ]
  },
  {
   "cell_type": "code",
   "execution_count": 6,
   "metadata": {},
   "outputs": [
    {
     "data": {
      "text/plain": [
       "89"
      ]
     },
     "execution_count": 6,
     "metadata": {},
     "output_type": "execute_result"
    }
   ],
   "source": [
    "#part e\n",
    "def fib_flr(n):\n",
    "    \"\"\"\n",
    "    Returns the value of Fn in the Fibonnaci sequence using the \n",
    "    truncation method.\n",
    "\n",
    "    Parameters\n",
    "    ----------\n",
    "    n: a nonnegative integer\n",
    "    \n",
    "     Returns\n",
    "     -------\n",
    "     Fn: the nth item in the sequence\n",
    "\n",
    "    \"\"\"\n",
    "    fi = (1+math.sqrt(5))/2\n",
    "    Fn = math.floor(fi**n/math.sqrt(5)+0.5)\n",
    "    return Fn\n",
    "    \n",
    "fib_flr(11)"
   ]
  },
  {
   "cell_type": "code",
   "execution_count": 15,
   "metadata": {},
   "outputs": [
    {
     "name": "stdout",
     "output_type": "stream",
     "text": [
      "+----------+---------------------+-----------------------+-----------------------+-----------------------+-----------------------+\n",
      "| N\\Method | Recursive(ms)       | For loop(ms)          | While loop(ms)        | Rounding(ms)          | Truncation(ms)        |\n",
      "+----------+---------------------+-----------------------+-----------------------+-----------------------+-----------------------+\n",
      "| 10       | 0.0169000000005326  | 0.0006439999970098143 | 0.0006810000013501849 | 0.0007869999990361976 | 0.0007189999996626284 |\n",
      "+----------+---------------------+-----------------------+-----------------------+-----------------------+-----------------------+\n",
      "| 15       | 0.18965799999932642 | 0.0008780000007391209 | 0.0009910000017043785 | 0.0009139999974649982 | 0.0007400000004054164 |\n",
      "+----------+---------------------+-----------------------+-----------------------+-----------------------+-----------------------+\n",
      "| 20       | 2.099567999998726   | 0.001029000000016822  | 0.0012180000021544402 | 0.0007669999968129559 | 0.000700999999025953  |\n",
      "+----------+---------------------+-----------------------+-----------------------+-----------------------+-----------------------+\n",
      "| 25       | 22.822837000003346  | 0.001422999998794694  | 0.0015690000009271898 | 0.0008039999966058531 | 0.0007249999998748535 |\n",
      "+----------+---------------------+-----------------------+-----------------------+-----------------------+-----------------------+\n",
      "| 30       | 256.8919589999996   | 0.001467000001866836  | 0.0019049999991693767 | 0.0008239999988290947 | 0.0007450000020980951 |\n",
      "+----------+---------------------+-----------------------+-----------------------+-----------------------+-----------------------+\n"
     ]
    }
   ],
   "source": [
    "#part f\n",
    "num_repeat = 100\n",
    "num_start = 10\n",
    "num_end = 30\n",
    "interval = 5\n",
    "time_data = [[\"N\\Method\",\"Recursive(ms)\",\"For loop(ms)\",\"While loop(ms)\",\n",
    "              \"Rounding(ms)\",\"Truncation(ms)\"]]\n",
    "median_data = np.zeros(5)\n",
    "for n in range(num_start,num_end+1,interval):\n",
    "    time_start = time.perf_counter()\n",
    "    for i in range(num_repeat):\n",
    "        fib_rec(n)\n",
    "    time_rec = time.perf_counter()\n",
    "    for i in range(num_repeat):\n",
    "        fib_for(n)\n",
    "        time_for = time.perf_counter()\n",
    "    for i in range(num_repeat):\n",
    "        fib_whl(n)\n",
    "        time_whl = time.perf_counter()\n",
    "    for i in range(num_repeat):\n",
    "        fib_rnd(n)\n",
    "        time_rnd = time.perf_counter()\n",
    "    for i in range(num_repeat):\n",
    "        fib_flr(n)\n",
    "        time_flr = time.perf_counter()\n",
    "    time_flr -= time_rnd\n",
    "    time_rnd -= time_whl\n",
    "    time_whl -= time_for\n",
    "    time_for -= time_rec\n",
    "    time_rec -= time_start\n",
    "    median_data = np.array([time_rec*1000,time_for*1000,time_whl*1000,\n",
    "                               time_rnd*1000,time_flr*1000])/num_repeat\n",
    "    time_data.append([n, np.median(median_data[0]),np.median(median_data[1]),\n",
    "                      np.median(median_data[2]),np.median(median_data[3]),\n",
    "                      np.median(median_data[4])])\n",
    "\n",
    "print(tabulate(time_data, tablefmt=\"grid\"))"
   ]
  },
  {
   "cell_type": "markdown",
   "metadata": {},
   "source": [
    "# Question 2"
   ]
  },
  {
   "cell_type": "code",
   "execution_count": 8,
   "metadata": {},
   "outputs": [
    {
     "name": "stdout",
     "output_type": "stream",
     "text": [
      "[1, 10, 45, 120, 210, 252, 210, 120, 45, 10, 1]\n"
     ]
    }
   ],
   "source": [
    "# part a\n",
    "def Pascal_row(n):\n",
    "    \"\"\"\n",
    "    Returns a specified row of Pascal’s triangle.\n",
    "\n",
    "    Parameters\n",
    "    ----------\n",
    "    n: a nonnegative integer\n",
    "    \n",
    "     Returns\n",
    "     -------\n",
    "     row_n : nth row in the Pascal’s triangle.\n",
    "\n",
    "    \"\"\"\n",
    "    row_n = []\n",
    "    c = 1\n",
    "    for i in range(1,n+2):\n",
    "        row_n.append(c)\n",
    "        c = int(c*(n+1-i)/i)\n",
    "    return row_n\n",
    "\n",
    "print(Pascal_row(10))\n",
    "    "
   ]
  },
  {
   "cell_type": "code",
   "execution_count": 9,
   "metadata": {},
   "outputs": [
    {
     "name": "stdout",
     "output_type": "stream",
     "text": [
      "                                   1                                       \n",
      "                                 1    1                                    \n",
      "                              1    2    1                                  \n",
      "                            1    3    3    1                               \n",
      "                         1    4    6    4    1                             \n",
      "                       1    5    10   10   5    1                          \n",
      "                    1    6    15   20   15   6    1                        \n",
      "                  1    7    21   35   35   21   7    1                     \n",
      "               1    8    28   56   70   56   28   8    1                   \n",
      "             1    9    36   84   126  126  84   36   9    1                \n",
      "          1    10   45   120  210  252  210  120  45   10   1              \n",
      "        1    11   55   165  330  462  462  330  165  55   11   1           \n",
      "     1    12   66   220  495  792  924  792  495  220  66   12   1         \n",
      "   1    13   78   286  715  1287 1716 1716 1287 715  286  78   13   1      \n",
      "1    14   91   364  1001 2002 3003 3432 3003 2002 1001 364  91   14   1    \n"
     ]
    }
   ],
   "source": [
    "# part b\n",
    "def Pascal_print(n):\n",
    "    \"\"\"\n",
    "    Prints the first n rows of Pascal’s triangle.\n",
    "\n",
    "    Parameters\n",
    "    ----------\n",
    "    n: a positive integer   \n",
    "\n",
    "    \"\"\"\n",
    "    last_row = Pascal_row(n-1)\n",
    "    max_num_width = len(str(last_row[int(n/2)]))+1\n",
    "    max_tri_width = max_num_width * len(last_row)\n",
    "    for i in range(0,n):\n",
    "        row_i = Pascal_row(i)\n",
    "        printed_string = \"\"\n",
    "        for val in row_i:\n",
    "            printed_string += str(val)+' '*(max_num_width-len(str(val)))\n",
    "        print(printed_string.center(max_tri_width))        \n",
    "    \n",
    "Pascal_print(15)"
   ]
  },
  {
   "cell_type": "markdown",
   "metadata": {},
   "source": [
    "# Question 3"
   ]
  },
  {
   "cell_type": "code",
   "execution_count": 10,
   "metadata": {},
   "outputs": [
    {
     "data": {
      "text/plain": [
       "'10.0[90.0%\"CI:(9.922460856421555,10.077539143578445)]'"
      ]
     },
     "execution_count": 10,
     "metadata": {},
     "output_type": "execute_result"
    }
   ],
   "source": [
    "# part a\n",
    "def check_format(arr):\n",
    "    \"\"\"\n",
    "    Raise an informative exception if not a 1d Numpy array.\n",
    "\n",
    "    Parameters\n",
    "    ----------\n",
    "    arr: input data\n",
    "\n",
    "    \"\"\"\n",
    "    try:\n",
    "        arr = np.array(arr)\n",
    "        if arr.ndim != 1:\n",
    "            raise exception \n",
    "    except:\n",
    "        print('Error: input not a 1d Numpy array or \\\n",
    "              any object coercable to such an array')\n",
    "    return arr\n",
    "\n",
    "def mean_est(arr,conf,form = 'string'):\n",
    "    \"\"\"\n",
    "    Return a point and interval estimate or dictionary.\n",
    "\n",
    "    Parameters\n",
    "    ----------\n",
    "    arr: input data\n",
    "    conf: desired confidence level\n",
    "    form: 'string' return a string/ None return a dictionary\n",
    "    \n",
    "     Returns\n",
    "     -------\n",
    "     dictionary : a dictionary with keys est, lwr, upr, and level\n",
    "     string : a point and interval estimation\n",
    "    \"\"\"\n",
    "    arr = check_format(arr)\n",
    "    mean = np.mean(arr)\n",
    "    sig = np.std(arr)/np.sqrt(len(arr))\n",
    "    conf_int = stats.norm.interval(conf,loc=mean,scale=sig)\n",
    "    dictionary = {'est': mean, 'lwr':conf_int[0], \n",
    "                  'upr':conf_int[1], 'level': conf}\n",
    "    if form == None:\n",
    "        return dictionary\n",
    "    string = '{}[{}%\"CI:({},{})]'.format(dictionary['est'],\n",
    "                                         100*dictionary['level'],\n",
    "                                         dictionary['lwr'],\n",
    "                                         dictionary['upr'])\n",
    "    return string\n",
    "\n",
    "mean_est([9.9,10,10.1],0.9)"
   ]
  },
  {
   "cell_type": "code",
   "execution_count": 11,
   "metadata": {},
   "outputs": [
    {
     "data": {
      "text/plain": [
       "'1.0[95.0%\"CI:(0.7623899013670968,1)]'"
      ]
     },
     "execution_count": 11,
     "metadata": {},
     "output_type": "execute_result"
    }
   ],
   "source": [
    "# part b\n",
    "def prop_est(arr,conf,method,form = 'string'):\n",
    "    \"\"\"\n",
    "    Return a point and interval estimate.\n",
    "\n",
    "    Parameters\n",
    "    ----------\n",
    "    arr: input data (Bernoulli trials)\n",
    "    conf: desired confidence level\n",
    "    method: 'Norm', based on the Normal approximation\n",
    "            'Clop', Clopper-Pearson interval\n",
    "            'Jeff', Jeffrey’s interval\n",
    "            'Agre', Agresti-Coull interval\n",
    "    form: 'string' return a string/\n",
    "          None return a dictionary\n",
    "    \n",
    "     Returns\n",
    "     -------\n",
    "     dictionary : a dictionary with keys est, lwr, upr, and level\n",
    "     string : a point and interval estimation\n",
    "\n",
    "    \"\"\"\n",
    "    arr = check_format(arr)\n",
    "    n = len(arr)\n",
    "    x = len(arr[arr==1])\n",
    "    p = x/n\n",
    "    alpha = 1-conf\n",
    "    conf_int = None\n",
    "    if method == 'Norm':\n",
    "        if not (n*p>12 and n*(1-p)>12):\n",
    "            raise Warning(\"The approximation is not considered adequate\")            \n",
    "        conf_int = stats.norm.interval(conf,loc=p,scale=(p*(1-p)/n)**0.5)\n",
    "    elif method == 'Clop':\n",
    "        conf_int = (stats.beta.ppf(alpha/2,x,n-x+1),\n",
    "                    stats.beta.ppf(1-alpha/2,x+1,n-x))\n",
    "    elif method == 'Jeff':\n",
    "        lwr = stats.beta.ppf(alpha/2,x+0.5,n-x+0.5) if x != 0 else 0\n",
    "        upr = stats.beta.ppf(1-alpha/2,x+0.5,n-x+0.5) if x != n else 1\n",
    "        conf_int = (lwr,upr)\n",
    "    elif method == 'Agre':\n",
    "        z = -stats.norm.ppf((1-conf)/2)\n",
    "        n_t = n+z**2\n",
    "        p_t = (x+z**2/2)/n_t\n",
    "        lwr = max(0,p_t-z*(p_t*(1-p_t)/n_t)**0.5)\n",
    "        upr = min(1,p_t+z*(p_t*(1-p_t)/n_t)**0.5)\n",
    "        #print(stats.norm.interval(conf,loc=p_t,scale=(p_t*(1-p_t)/n_t)**0.5))\n",
    "        conf_int = (lwr,upr)\n",
    "        p = p_t\n",
    "    dictionary = {'est': p, 'lwr':conf_int[0], 'upr':conf_int[1],\n",
    "                  'level': conf}\n",
    "    if form == None:\n",
    "        return dictionary\n",
    "    string = '{}[{}%\"CI:({},{})]'.format(dictionary['est'],\n",
    "                                         100*dictionary['level'],\n",
    "                                         dictionary['lwr'],\n",
    "                                         dictionary['upr'])\n",
    "    return string\n",
    "    \n",
    "prop_est([1,1,1,1,1,1,1,1,1],0.95,'Jeff')"
   ]
  },
  {
   "cell_type": "code",
   "execution_count": 12,
   "metadata": {},
   "outputs": [
    {
     "name": "stdout",
     "output_type": "stream",
     "text": [
      "+-----------------+-----------------+-----------------+-----------------+-----------------+-----------------+\n",
      "| Conf_int\\Method | Mean_norm       | Prop_norm       | Clopper         | Jeffrey         | Agresti         |\n",
      "+-----------------+-----------------+-----------------+-----------------+-----------------+-----------------+\n",
      "| 90%             | (0.3802,0.5532) | (0.3802,0.5532) | (0.3765,0.5586) | (0.3818,0.5531) | (0.3824,0.5529) |\n",
      "+-----------------+-----------------+-----------------+-----------------+-----------------+-----------------+\n",
      "| 95%             | (0.3636,0.5697) | (0.3636,0.5697) | (0.3607,0.5749) | (0.366,0.5694)  | (0.3671,0.569)  |\n",
      "+-----------------+-----------------+-----------------+-----------------+-----------------+-----------------+\n",
      "| 99%             | (0.3312,0.6021) | (0.3312,0.6021) | (0.3306,0.6064) | (0.3357,0.601)  | (0.3382,0.5997) |\n",
      "+-----------------+-----------------+-----------------+-----------------+-----------------+-----------------+\n"
     ]
    }
   ],
   "source": [
    "# part c\n",
    "def ext_conf_int(dict,dec=4):\n",
    "    \"\"\"\n",
    "    Extract the confident interval as a string.\n",
    "    Parameters\n",
    "    ----------\n",
    "    dict: dictionary provided\n",
    "    dec: number of decimals\n",
    "    \n",
    "     Returns\n",
    "     -------\n",
    "     string : a confident interval with required decimals\n",
    "\n",
    "    \"\"\"    \n",
    "    lwr = round(dict['lwr'],dec)\n",
    "    upr = round(dict['upr'],dec)\n",
    "    string = '({},{})'.format(lwr,upr)\n",
    "    return string\n",
    "\n",
    "\n",
    "arr = np.concatenate((np.repeat(1,42),np.repeat(0,48)))\n",
    "Mean_norm = [ext_conf_int(mean_est(arr,0.90,None)),\n",
    "             ext_conf_int(mean_est(arr,0.95,None)),\n",
    "             ext_conf_int(mean_est(arr,0.99,None))]\n",
    "Prop_norm = [ext_conf_int(prop_est(arr,0.90,'Norm',None)),\n",
    "             ext_conf_int(prop_est(arr,0.95,'Norm',None)),\n",
    "             ext_conf_int(prop_est(arr,0.99,'Norm',None))]\n",
    "Clopper = [ext_conf_int(prop_est(arr,0.90,'Clop',None)),\n",
    "           ext_conf_int(prop_est(arr,0.95,'Clop',None)),\n",
    "           ext_conf_int(prop_est(arr,0.99,'Clop',None))]\n",
    "Jeffrey = [ext_conf_int(prop_est(arr,0.90,'Jeff',None)),\n",
    "           ext_conf_int(prop_est(arr,0.95,'Jeff',None)),\n",
    "           ext_conf_int(prop_est(arr,0.99,'Jeff',None))]\n",
    "Agresti = [ext_conf_int(prop_est(arr,0.90,'Agre',None)),\n",
    "           ext_conf_int(prop_est(arr,0.95,'Agre',None)),\n",
    "           ext_conf_int(prop_est(arr,0.99,'Agre',None))]\n",
    "conf_data = [['Conf_int\\Method','Mean_norm','Prop_norm','Clopper',\n",
    "              'Jeffrey','Agresti'],\n",
    "             ['90%',Mean_norm[0],Prop_norm[0],Clopper[0],Jeffrey[0],\n",
    "              Agresti[0]],\n",
    "             ['95%',Mean_norm[1],Prop_norm[1],Clopper[1],Jeffrey[1],\n",
    "              Agresti[1]],\n",
    "             ['99%',Mean_norm[2],Prop_norm[2],Clopper[2],Jeffrey[2],\n",
    "              Agresti[2]]]\n",
    "print(tabulate(conf_data, tablefmt=\"grid\"))"
   ]
  },
  {
   "cell_type": "markdown",
   "metadata": {},
   "source": [
    "The Agresti-Coull method produces the interval with the smallest width for all 3 confidence levels."
   ]
  }
 ],
 "metadata": {
  "kernelspec": {
   "display_name": "Python 3",
   "language": "python",
   "name": "python3"
  },
  "language_info": {
   "codemirror_mode": {
    "name": "ipython",
    "version": 3
   },
   "file_extension": ".py",
   "mimetype": "text/x-python",
   "name": "python",
   "nbconvert_exporter": "python",
   "pygments_lexer": "ipython3",
   "version": "3.8.10"
  }
 },
 "nbformat": 4,
 "nbformat_minor": 4
}
